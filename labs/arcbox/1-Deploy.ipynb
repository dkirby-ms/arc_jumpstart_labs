{
 "cells": [
  {
   "cell_type": "markdown",
   "metadata": {},
   "source": [
    "## Login to Azure\n",
    "Click on the \"plus\" icon and open a new terminal window.\n",
    "\n",
    "![Screenshot showing location of plus icon](./img/new_window_plus_icon.png)\n",
    "\n",
    "![Screenshot showing new Terminal icon](./img/terminal_icon.png)\n",
    "\n",
    "![Screenshot showing new Terminal window](./img/terminal_window.png)\n",
    "\n",
    "From the terminal window login to Azure using a device code with the following command. When prompted to authenticate, click the link and sign in.\n",
    "\n",
    "```\n",
    "az login --use-device-code\n",
    "```\n",
    "\n",
    "Once logged in, switch back to the [Deploy notebook](./1-Deploy.ipynb) and continue with the lab."
   ]
  }
 ],
 "metadata": {
  "kernelspec": {
   "display_name": ".venv",
   "language": "python",
   "name": "python3"
  },
  "language_info": {
   "codemirror_mode": {
    "name": "ipython",
    "version": 3
   },
   "file_extension": ".py",
   "mimetype": "text/x-python",
   "name": "python",
   "nbconvert_exporter": "python",
   "pygments_lexer": "ipython3",
   "version": "3.12.3"
  }
 },
 "nbformat": 4,
 "nbformat_minor": 2
}
