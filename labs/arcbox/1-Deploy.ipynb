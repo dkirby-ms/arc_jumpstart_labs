{
 "cells": [
  {
   "cell_type": "markdown",
   "metadata": {},
   "source": [
    "## Login to Azure\n",
    "Click on the \"plus\" icon and open a new terminal window.\n",
    "\n",
    "![Screenshot showing location of plus icon](./img/new_window_plus_icon.png)\n",
    "\n",
    "![Screenshot showing new Terminal icon](./img/terminal_icon.png)\n",
    "\n",
    "![Screenshot showing new Terminal window](./img/terminal_window.png)\n",
    "\n",
    "From the terminal window login to Azure using a device code with the following command. When prompted to authenticate, click the link and sign in.\n",
    "\n",
    "```\n",
    "az login --use-device-code\n",
    "```\n",
    "\n",
    "Once logged in, switch back to this notebook and continue with the lab. Leave the Terminanl window open for reuse."
   ]
  },
  {
   "cell_type": "markdown",
   "metadata": {},
   "source": [
    "## Deploy ArcBox\n",
    "\n",
    "First, create a resource group for ArcBox by running the Azure CLI command in the next cell."
   ]
  },
  {
   "cell_type": "code",
   "execution_count": 2,
   "metadata": {},
   "outputs": [
    {
     "name": "stdout",
     "output_type": "stream",
     "text": [
      "{\n",
      "  \"id\": \"/subscriptions/608937df-4e8f-4dc5-8bc6-16f30646ebd9/resourceGroups/ArcBox\",\n",
      "  \"location\": \"eastus2\",\n",
      "  \"managedBy\": null,\n",
      "  \"name\": \"ArcBox\",\n",
      "  \"properties\": {\n",
      "    \"provisioningState\": \"Succeeded\"\n",
      "  },\n",
      "  \"tags\": null,\n",
      "  \"type\": \"Microsoft.Resources/resourceGroups\"\n",
      "}\n"
     ]
    }
   ],
   "source": [
    "!az group create -n ArcBox -l eastus2"
   ]
  }
 ],
 "metadata": {
  "kernelspec": {
   "display_name": ".venv",
   "language": "python",
   "name": "python3"
  },
  "language_info": {
   "codemirror_mode": {
    "name": "ipython",
    "version": 3
   },
   "file_extension": ".py",
   "mimetype": "text/x-python",
   "name": "python",
   "nbconvert_exporter": "python",
   "pygments_lexer": "ipython3",
   "version": "3.12.3"
  }
 },
 "nbformat": 4,
 "nbformat_minor": 2
}
